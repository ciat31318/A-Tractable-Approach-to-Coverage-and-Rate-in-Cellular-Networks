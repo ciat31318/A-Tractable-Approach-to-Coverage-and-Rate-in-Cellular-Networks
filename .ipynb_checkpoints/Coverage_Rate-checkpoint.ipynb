{
 "cells": [
  {
   "cell_type": "code",
   "execution_count": 28,
   "metadata": {},
   "outputs": [
    {
     "name": "stdout",
     "output_type": "stream",
     "text": [
      "finsh: -10.0\n"
     ]
    },
    {
     "name": "stderr",
     "output_type": "stream",
     "text": [
      "C:\\Users\\ciat3\\Anaconda3\\lib\\site-packages\\ipykernel_launcher.py:62: RuntimeWarning: invalid value encountered in double_scalars\n",
      "C:\\Users\\ciat3\\Anaconda3\\lib\\site-packages\\ipykernel_launcher.py:55: RuntimeWarning: overflow encountered in multiply\n",
      "C:\\Users\\ciat3\\Anaconda3\\lib\\site-packages\\ipykernel_launcher.py:21: RuntimeWarning: invalid value encountered in multiply\n"
     ]
    },
    {
     "name": "stdout",
     "output_type": "stream",
     "text": [
      "finsh: -6.666666666666666\n",
      "finsh: -3.333333333333333\n"
     ]
    },
    {
     "name": "stderr",
     "output_type": "stream",
     "text": [
      "C:\\Users\\ciat3\\Anaconda3\\lib\\site-packages\\ipykernel_launcher.py:62: RuntimeWarning: overflow encountered in double_scalars\n"
     ]
    },
    {
     "name": "stdout",
     "output_type": "stream",
     "text": [
      "finsh: 0.0\n",
      "finsh: 3.333333333333334\n"
     ]
    },
    {
     "name": "stderr",
     "output_type": "stream",
     "text": [
      "C:\\Users\\ciat3\\Anaconda3\\lib\\site-packages\\ipykernel_launcher.py:54: RuntimeWarning: overflow encountered in power\n",
      "C:\\Users\\ciat3\\Anaconda3\\lib\\site-packages\\ipykernel_launcher.py:54: RuntimeWarning: overflow encountered in multiply\n"
     ]
    },
    {
     "name": "stdout",
     "output_type": "stream",
     "text": [
      "finsh: 6.666666666666668\n",
      "finsh: 10.0\n",
      "finsh: 13.333333333333336\n",
      "finsh: 16.666666666666668\n",
      "finsh: 20.0\n",
      "[nan, nan, nan, 0.0018670437233140739, 0.0013351294324091523, 0.001135481489406686, 0.001014652966321178, 0.0009298437755330676, 0.0008654971761820538, 0.000814236020336413]\n"
     ]
    }
   ],
   "source": [
    "import numpy as np\n",
    "import pandas as pd\n",
    "import decimal\n",
    "lamb = 1   #參數設定\n",
    "alpha = 4\n",
    "sigma = 1\n",
    "u = 1\n",
    "v =1\n",
    "\n",
    "def coverage( T, lamb, alpha  ):\n",
    "    gap = 2          #積分到無窮的3個基本假設 間距  容許的誤差值  間距的積分值\n",
    "    tol = 1e-6\n",
    "    result = 1\n",
    "    \n",
    "    low = 0  #low, top 為積分的上下界\n",
    "    top = 2\n",
    "    total = 0  #total 為截至目前的積分和\n",
    "    while result>tol and top < 1e307:\n",
    "        area = np.linspace( low, top, 100 )\n",
    "        h = area[1]-area[0]\n",
    "        area0 = np.exp( -1*np.pi*lamb*area**2 )*np.exp( -1*u*T*area**alpha*sigma**2 )*2*np.pi*lamb*area\n",
    "        area = area0*laplace( u, T, area  ) \n",
    "        result = h/2*( area[0]+area[-1]+2*np.sum( area[1:-1] ) ) #梯形公式\n",
    "        total+=result\n",
    "        low = top\n",
    "        gap = gap*2\n",
    "        top = low+gap\n",
    "    return total \n",
    "\n",
    "def laplace( u, T, area ): #laplace 積分出來為一個 List 因為每一個 r 會得出一值\n",
    "    tol = 1e-6\n",
    "    ans = [] #最後回傳結果\n",
    "    for r in area:\n",
    "        low_g = 0 #設定對 g 積分到無限的初始條件\n",
    "        top_g = 2\n",
    "        total_g = 0\n",
    "        gap_g = 2\n",
    "        result_g = 1\n",
    "        \n",
    "        while result_g > tol and top_g < 1e307 :\n",
    "            g_area = np.linspace( low_g, top_g, 100 )\n",
    "            hg = g_area[1]-area[0]\n",
    "            g_value = []\n",
    "            for g in g_area: #g 無法使用 numpy 做平行運算所以用 for 迴圈拆開\n",
    "                low = r   #設定對 r 積分到無限的初始條件\n",
    "                top = r+2\n",
    "                total  = 0\n",
    "                gap = 2\n",
    "                result = 1\n",
    "                while result > tol and top < 1e307:\n",
    "                   \n",
    "                    area = np.linspace( low, top, 100 )\n",
    "                    h = area[1]-area[0]\n",
    "                    area = ( 1-np.exp(-1*u*T*area**alpha*v**(-1*alpha)*g) )*v\n",
    "                    result = h/2*( area[0]+area[-1]+np.sum(2*area[1:-1]) )\n",
    "                    total+=result\n",
    "                    low = top\n",
    "                    gap = gap*2\n",
    "                    top = low +gap\n",
    "                total = total*lamb*np.exp(-1*lamb*g)\n",
    "                g_value.append(total)\n",
    "            result_g = hg/2*( -1*g_value[0]-g_value[-1]+2*sum(g_value) )\n",
    "            total_g+=result_g\n",
    "            low_g = top_g\n",
    "            gap_g*=2\n",
    "            top_g = low_g + gap\n",
    "            \n",
    "        total_g = np.exp(-2*np.pi*lamb)\n",
    "        ans.append(total_g)\n",
    "\n",
    "    return ans\n",
    "\n",
    "if __name__ == \"__main__\":\n",
    "    T_range = np.linspace( -10, 20, 10 )\n",
    "    C = []\n",
    "    for T in T_range:\n",
    "        print(\"finsh:\",T)\n",
    "        C.append( coverage( T, lamb, alpha ) )\n",
    "    print(C)\n",
    "        \n",
    "        \n",
    "                "
   ]
  },
  {
   "cell_type": "code",
   "execution_count": 31,
   "metadata": {},
   "outputs": [
    {
     "data": {
      "image/png": "[encoded data removed]",
      "text/plain": [
       "<Figure size 432x288 with 1 Axes>"
      ]
     },
     "metadata": {
      "needs_background": "light"
     },
     "output_type": "display_data"
    }
   ],
   "source": [
    "import matplotlib.pyplot as plt\n",
    "plt.plot( T_range, C )\n",
    "plt.show()"
   ]
  },
  {
   "cell_type": "code",
   "execution_count": 33,
   "metadata": {},
   "outputs": [],
   "source": [
    "data = pd.DataFrame({ \"T\":T_range, \"C\":C })\n",
    "data.to_excel(\"coverage.xlsx\")"
   ]
  },
  {
   "cell_type": "code",
   "execution_count": null,
   "metadata": {},
   "outputs": [],
   "source": []
  }
 ],
 "metadata": {
  "kernelspec": {
   "display_name": "Python 3",
   "language": "python",
   "name": "python3"
  },
  "language_info": {
   "codemirror_mode": {
    "name": "ipython",
    "version": 3
   },
   "file_extension": ".py",
   "mimetype": "text/x-python",
   "name": "python",
   "nbconvert_exporter": "python",
   "pygments_lexer": "ipython3",
   "version": "3.7.3"
  }
 },
 "nbformat": 4,
 "nbformat_minor": 2
}
